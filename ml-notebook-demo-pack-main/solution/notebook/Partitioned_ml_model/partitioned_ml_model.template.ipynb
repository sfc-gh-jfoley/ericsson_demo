{
 "cells": [
  {
   "cell_type": "markdown",
   "id": "2452b045-2bcc-4df1-bfdf-6888c8320ed5",
   "metadata": {
    "name": "overview_md"
   },
   "source": [
    "# Partitioned Custom ML Model with Model Registry\n",
    "\n",
    "Many datasets can be easily partitioned into multiple independent subsets. For example, a dataset containing sales data for a chain of stores can be partitioned by store number. A separate model can then be trained for each partition. Training and inference operations on the partitions can be parallelized, reducing the wall-clock time for these operations. Furthermore, since individual stores likely differ somewhat in how their features affect their sales, this approach can actually lead to more accurate inference at the store level.\n",
    "\n",
    "With the Snowflake Model Registry, you implement partitioned training and inference using custom models. When using the model, the registry partitions the dataset, fits and predicts the partitions in parallel using all the nodes and cores in your warehouse, and combines the results into a single dataset afterward.\n",
    "\n",
    "In this notebook we will complete the following steps:\n",
    "1. Load Partitioned_Custom_Model_Restaurant_Traffic_Data.csv from a stage. This data set contains the hourly traffic at restaurants\n",
    "2. Define an XGBoost model to predict hourly traffic\n",
    "3. Log this model to the model registry\n",
    "4. Use Partitioned Custom Models to run training and inference for each store in the data"
   ]
  },
  {
   "cell_type": "code",
   "execution_count": 1,
   "id": "4e3b1e3f-fc07-4598-955b-063bbcb93efd",
   "metadata": {
    "collapsed": false,
    "language": "python",
    "name": "imports"
   },
   "outputs": [
    {
     "name": "stderr",
     "output_type": "stream",
     "text": [
      "SnowflakeLoginOptions() is in private preview since 0.2.0. Do not use it in production. \n"
     ]
    },
    {
     "data": {
      "text/plain": [
       "[Row(status='Statement executed successfully.')]"
      ]
     },
     "execution_count": 1,
     "metadata": {},
     "output_type": "execute_result"
    }
   ],
   "source": [
    "from datetime import timedelta\n",
    "\n",
    "import pandas as pd\n",
    "\n",
    "from snowflake.ml.model import custom_model\n",
    "from snowflake.ml.model import model_signature\n",
    "from snowflake.ml.registry import registry\n",
    "from snowflake.ml.utils.connection_params import SnowflakeLoginOptions\n",
    "from snowflake.snowpark import Session\n",
    "from snowflake.snowpark import functions as F\n",
    "\n",
    "session = get_active_session()\n",
    "\n",
    "# Add a query tag to the session. This helps with debugging and performance monitoring.\n",
    "session.query_tag = {\"origin\":\"sf_sit\", \"name\":\"notebook_pack_partitioned_ml\", \"version\":{\"major\":1, \"minor\":0}}\n",
    "\n",
    "# Set session context \n",
    "session.use_role(f\"{{ env.DATAOPS_CATALOG_SOLUTION_PREFIX }}_DATA_SCIENTIST\") \n",
    "\n",
    "# Print the current role, warehouse, and database/schema\n",
    "print(f\"role: {session.get_current_role()} | WH: {session.get_current_warehouse()} | DB.SCHEMA: {session.get_fully_qualified_current_schema()}\")"
   ]
  },
  {
   "cell_type": "markdown",
   "id": "1f78f580-67a0-4cce-b44e-f7c8424f9b43",
   "metadata": {
    "collapsed": false,
    "name": "data_preview_md"
   },
   "source": [
    "## Load and Preview Data\n",
    "\n",
    "The dataset is loaded locally from the `Partitioned_Custom_Model_Restaurant_Traffic_Data.csv` file. It contains an epoch timestamp in milliseconds, a store ID which will later be used as a partition column, a feature column `COLLEGE_TOWN`, and a target to be forecasted, `HOURLY_TRAFFIC`."
   ]
  },
  {
   "cell_type": "code",
   "execution_count": null,
   "id": "a2c4bebf-c7bd-4199-b513-0a12c3f27e6f",
   "metadata": {
    "codeCollapsed": false,
    "collapsed": false,
    "language": "python",
    "name": "load_file"
   },
   "outputs": [],
   "source": [
    "status = session.file.get(\"@{{ env.DATAOPS_DATABASE }}.analytics.partitioned_data/Partitioned_Custom_Model_Restaurant_Traffic_Data.csv\",\"./\")\n",
    "status[0][2]"
   ]
  },
  {
   "cell_type": "code",
   "execution_count": null,
   "id": "02855c03-bcbd-4378-8088-8f7ec9bb513a",
   "metadata": {
    "codeCollapsed": false,
    "collapsed": false,
    "language": "python",
    "name": "load_data"
   },
   "outputs": [],
   "source": [
    "test_df_pandas = pd.read_csv(\"Partitioned_Custom_Model_Restaurant_Traffic_Data.csv\")\n",
    "test_df = session.create_dataframe(test_df_pandas)\n",
    "test_df"
   ]
  },
  {
   "cell_type": "markdown",
   "id": "84f924d9-dd86-483a-a86b-b00aa491fc62",
   "metadata": {
    "collapsed": false,
    "name": "forecasting_model_md"
   },
   "source": [
    "## Forecasting Model\n",
    "We'll now define our XGBoost forecasting model. This is a [Custom Model](https://docs.snowflake.com/en/developer-guide/snowpark-ml/model-registry/custom-models) and will be used for partitioned training and inference later.  "
   ]
  },
  {
   "cell_type": "code",
   "execution_count": 5,
   "id": "182ba1e0-370f-4cc8-86c4-dec4fc9f153a",
   "metadata": {
    "codeCollapsed": false,
    "collapsed": false,
    "language": "python",
    "name": "forecasting_model"
   },
   "outputs": [],
   "source": [
    "class ForecastingModel(custom_model.CustomModel):\n",
    "\n",
    "    # Use the same decorator as for methods with FUNCTION inference.\n",
    "    @custom_model.partitioned_inference_api\n",
    "    def predict(self, df: pd.DataFrame) -> pd.DataFrame:        \n",
    "        import xgboost\n",
    "\n",
    "        # Set the time column as our index.\n",
    "        input_df = df.set_index('EPOCH')\n",
    "        input_df.index = pd.to_datetime(df['EPOCH'], unit='ms')\n",
    "\n",
    "        # Generate categorical features using the datetime index.\n",
    "        input_df['HOUR'] = input_df.index.hour.astype(\"category\")\n",
    "        input_df['DAY_OF_WEEK'] = input_df.index.dayofweek.astype(\"category\")\n",
    "        input_df['MONTH'] = input_df.index.month.astype(\"category\")\n",
    "        input_df['YEAR'] = input_df.index.year.astype(\"category\")\n",
    "        \n",
    "        input_df['COLLEGE_TOWN'] = input_df['COLLEGE_TOWN'].astype(\"category\")\n",
    "        \n",
    "        # Use get_dummies (one-hot encoding) for categorical features.\n",
    "        final = pd.get_dummies(data=input_df, columns=['COLLEGE_TOWN', 'HOUR', 'MONTH', 'YEAR', 'DAY_OF_WEEK'])\n",
    "\n",
    "        # Define the train & forecast split thresholds.\n",
    "        today = pd.to_datetime('2022-10-01')\n",
    "        yesterday = today - timedelta(days=1)\n",
    "        four_weeks = today + timedelta(days=28)\n",
    "        tomorrow = today + timedelta(days=1)\n",
    "\n",
    "        # Train data starts on June 16th 2018 and ends on September 30th.\n",
    "        train = final[(final.index >= pd.to_datetime('16-Jun-2018')) & (final.index <= pd.to_datetime(yesterday))]\n",
    "        \n",
    "        # The forecast starts from October 1st 2022 and goes 4 weeks into the future.\n",
    "        forecast = final[(final.index >= pd.to_datetime(tomorrow)) & (final.index <= pd.to_datetime(four_weeks))].copy()\n",
    "\n",
    "        # Remove the target from the input dataset, and construct target dataset.\n",
    "        X_train = train.drop('HOURLY_TRAFFIC', axis=1)\n",
    "        y_train = train['HOURLY_TRAFFIC']\n",
    "\n",
    "        X_forecast = forecast.drop('HOURLY_TRAFFIC', axis=1)\n",
    "        \n",
    "        # Train an XGBoost regression model.\n",
    "        model = xgboost.XGBRegressor(n_estimators=200, n_jobs=1)\n",
    "        model.fit(X_train, y_train, verbose=False)\n",
    "\n",
    "        # Predict the hourly forecast for the future dates and make sure no predictions are less than zero.\n",
    "        forecast.loc[:, 'PREDICTION'] = model.predict(X_forecast)\n",
    "        forecast.loc[:, 'EPOCH_OUT'] = [t.value // 10**9 for t in forecast.index]\n",
    "        forecast = forecast[['EPOCH_OUT', 'PREDICTION']]\n",
    "        forecast = forecast.sort_index()\n",
    "        forecast.loc[forecast['PREDICTION'] < 0, 'PREDICTION'] = 0\n",
    "\n",
    "        return forecast"
   ]
  },
  {
   "cell_type": "code",
   "execution_count": 6,
   "id": "8a8534f9-71db-4319-be58-5a9ff3f2fbea",
   "metadata": {
    "codeCollapsed": false,
    "collapsed": false,
    "language": "python",
    "name": "forcasting_model_2"
   },
   "outputs": [],
   "source": [
    "my_forecasting_model = ForecastingModel()"
   ]
  },
  {
   "cell_type": "markdown",
   "id": "53db5be5-6816-492d-991a-144a32d922ae",
   "metadata": {
    "collapsed": false,
    "name": "predict_local_md"
   },
   "source": [
    "### Predict Locally\n",
    "The predict method can be tested locally by using a pandas dataframe directly. Here we can run `predict` for a single partition."
   ]
  },
  {
   "cell_type": "code",
   "execution_count": 7,
   "id": "d3b11059-8d8f-4023-a3a8-feaab66bd595",
   "metadata": {
    "collapsed": false,
    "language": "python",
    "name": "predict_local"
   },
   "outputs": [
    {
     "name": "stderr",
     "output_type": "stream",
     "text": [
      "/var/folders/0l/n0lxdw_j2xq9f0l8qq88zt1h0000gn/T/ipykernel_30436/948395715.py:46: SettingWithCopyWarning: \n",
      "A value is trying to be set on a copy of a slice from a DataFrame.\n",
      "Try using .loc[row_indexer,col_indexer] = value instead\n",
      "\n",
      "See the caveats in the documentation: https://pandas.pydata.org/pandas-docs/stable/user_guide/indexing.html#returning-a-view-versus-a-copy\n",
      "  forecast['PREDICTION'] = model.predict(X_forecast)\n",
      "/var/folders/0l/n0lxdw_j2xq9f0l8qq88zt1h0000gn/T/ipykernel_30436/948395715.py:47: SettingWithCopyWarning: \n",
      "A value is trying to be set on a copy of a slice from a DataFrame.\n",
      "Try using .loc[row_indexer,col_indexer] = value instead\n",
      "\n",
      "See the caveats in the documentation: https://pandas.pydata.org/pandas-docs/stable/user_guide/indexing.html#returning-a-view-versus-a-copy\n",
      "  forecast['EPOCH_OUT'] = [t.value // 10**9 for t in forecast.index]\n"
     ]
    },
    {
     "data": {
      "text/html": [
       "<div>\n",
       "<style scoped>\n",
       "    .dataframe tbody tr th:only-of-type {\n",
       "        vertical-align: middle;\n",
       "    }\n",
       "\n",
       "    .dataframe tbody tr th {\n",
       "        vertical-align: top;\n",
       "    }\n",
       "\n",
       "    .dataframe thead th {\n",
       "        text-align: right;\n",
       "    }\n",
       "</style>\n",
       "<table border=\"1\" class=\"dataframe\">\n",
       "  <thead>\n",
       "    <tr style=\"text-align: right;\">\n",
       "      <th></th>\n",
       "      <th>EPOCH_OUT</th>\n",
       "      <th>PREDICTION</th>\n",
       "    </tr>\n",
       "    <tr>\n",
       "      <th>EPOCH</th>\n",
       "      <th></th>\n",
       "      <th></th>\n",
       "    </tr>\n",
       "  </thead>\n",
       "  <tbody>\n",
       "    <tr>\n",
       "      <th>2022-10-02 07:00:00</th>\n",
       "      <td>1664694000</td>\n",
       "      <td>77.787636</td>\n",
       "    </tr>\n",
       "    <tr>\n",
       "      <th>2022-10-02 08:00:00</th>\n",
       "      <td>1664697600</td>\n",
       "      <td>76.995056</td>\n",
       "    </tr>\n",
       "    <tr>\n",
       "      <th>2022-10-02 09:00:00</th>\n",
       "      <td>1664701200</td>\n",
       "      <td>76.751877</td>\n",
       "    </tr>\n",
       "    <tr>\n",
       "      <th>2022-10-02 10:00:00</th>\n",
       "      <td>1664704800</td>\n",
       "      <td>76.600456</td>\n",
       "    </tr>\n",
       "    <tr>\n",
       "      <th>2022-10-02 11:00:00</th>\n",
       "      <td>1664708400</td>\n",
       "      <td>96.709358</td>\n",
       "    </tr>\n",
       "    <tr>\n",
       "      <th>...</th>\n",
       "      <td>...</td>\n",
       "      <td>...</td>\n",
       "    </tr>\n",
       "    <tr>\n",
       "      <th>2022-10-28 18:00:00</th>\n",
       "      <td>1666980000</td>\n",
       "      <td>30.727842</td>\n",
       "    </tr>\n",
       "    <tr>\n",
       "      <th>2022-10-28 19:00:00</th>\n",
       "      <td>1666983600</td>\n",
       "      <td>30.608843</td>\n",
       "    </tr>\n",
       "    <tr>\n",
       "      <th>2022-10-28 20:00:00</th>\n",
       "      <td>1666987200</td>\n",
       "      <td>31.198336</td>\n",
       "    </tr>\n",
       "    <tr>\n",
       "      <th>2022-10-28 21:00:00</th>\n",
       "      <td>1666990800</td>\n",
       "      <td>4.420763</td>\n",
       "    </tr>\n",
       "    <tr>\n",
       "      <th>2022-10-28 22:00:00</th>\n",
       "      <td>1666994400</td>\n",
       "      <td>4.459415</td>\n",
       "    </tr>\n",
       "  </tbody>\n",
       "</table>\n",
       "<p>432 rows × 2 columns</p>\n",
       "</div>"
      ],
      "text/plain": [
       "                      EPOCH_OUT  PREDICTION\n",
       "EPOCH                                      \n",
       "2022-10-02 07:00:00  1664694000   77.787636\n",
       "2022-10-02 08:00:00  1664697600   76.995056\n",
       "2022-10-02 09:00:00  1664701200   76.751877\n",
       "2022-10-02 10:00:00  1664704800   76.600456\n",
       "2022-10-02 11:00:00  1664708400   96.709358\n",
       "...                         ...         ...\n",
       "2022-10-28 18:00:00  1666980000   30.727842\n",
       "2022-10-28 19:00:00  1666983600   30.608843\n",
       "2022-10-28 20:00:00  1666987200   31.198336\n",
       "2022-10-28 21:00:00  1666990800    4.420763\n",
       "2022-10-28 22:00:00  1666994400    4.459415\n",
       "\n",
       "[432 rows x 2 columns]"
      ]
     },
     "execution_count": 7,
     "metadata": {},
     "output_type": "execute_result"
    }
   ],
   "source": [
    "my_forecasting_model.predict(test_df_pandas.loc[test_df_pandas['STORE_ID'] == 1])"
   ]
  },
  {
   "cell_type": "markdown",
   "id": "c4a0d131-60a0-4186-9b10-df3be4ab157c",
   "metadata": {
    "collapsed": false,
    "name": "model_registry_md"
   },
   "source": [
    "## Model Registry\n",
    "We will start by creating a [Snowflake Model Registry](https://docs.snowflake.com/en/developer-guide/snowpark-ml/model-registry/overview) in our database and schema."
   ]
  },
  {
   "cell_type": "code",
   "execution_count": 2,
   "id": "a4d5a9dd-a700-4de2-8065-4308678fd917",
   "metadata": {
    "codeCollapsed": false,
    "collapsed": false,
    "language": "python",
    "name": "create_registry"
   },
   "outputs": [],
   "source": [
    "REGISTRY_DATABASE_NAME = \"{{ env.DATAOPS_DATABASE }}\"\n",
    "REGISTRY_SCHEMA_NAME = \"ANALYTICS\"\n",
    "\n",
    "reg = registry.Registry(session=session, database_name=REGISTRY_DATABASE_NAME, schema_name=REGISTRY_SCHEMA_NAME)"
   ]
  },
  {
   "cell_type": "markdown",
   "id": "14ad2585-c013-4730-b617-b2336d176479",
   "metadata": {
    "collapsed": false,
    "name": "log_model_md"
   },
   "source": [
    "### Log the model\n",
    "We will log the model to our model registry, specifying the `function_type: \"TABLE_FUNCTION\"` option."
   ]
  },
  {
   "cell_type": "code",
   "execution_count": 9,
   "id": "d2e77f15-ae88-42fc-b6d3-e21665cd6fed",
   "metadata": {
    "codeCollapsed": false,
    "collapsed": false,
    "language": "python",
    "name": "log_model"
   },
   "outputs": [
    {
     "name": "stderr",
     "output_type": "stream",
     "text": [
      "/Users/thoyt/anaconda3/envs/snowpark-ml-dataiku/lib/python3.11/contextlib.py:137: UserWarning: `relax_version` is not set and therefore defaulted to True. Dependency version constraints relaxed from ==x.y.z to >=x.y, <(x+1). To use specific dependency versions for compatibility, reproducibility, etc., set `options={'relax_version': False}` when logging the model.\n",
      "  return next(self.gen)\n"
     ]
    }
   ],
   "source": [
    "options = {\n",
    "    \"function_type\": \"TABLE_FUNCTION\",\n",
    "    \"relax_version\": True,\n",
    "}\n",
    "\n",
    "mv = reg.log_model(\n",
    "    my_forecasting_model,\n",
    "    model_name=\"forecast\",\n",
    "    conda_dependencies=[\"pandas\", \"scikit-learn\", \"xgboost\"],\n",
    "    options=options,\n",
    "    signatures={\n",
    "        \"predict\": model_signature.ModelSignature(\n",
    "            inputs=[\n",
    "                model_signature.FeatureSpec(name=\"EPOCH\", dtype=model_signature.DataType.DOUBLE),\n",
    "                model_signature.FeatureSpec(name=\"STORE_ID\", dtype=model_signature.DataType.DOUBLE),\n",
    "                model_signature.FeatureSpec(name=\"COLLEGE_TOWN\", dtype=model_signature.DataType.DOUBLE),\n",
    "                model_signature.FeatureSpec(name=\"HOURLY_TRAFFIC\", dtype=model_signature.DataType.INT64),\n",
    "            ],\n",
    "            outputs=[\n",
    "                model_signature.FeatureSpec(name=\"EPOCH_OUT\", dtype=model_signature.DataType.FLOAT),\n",
    "                model_signature.FeatureSpec(name=\"PREDICTION\", dtype=model_signature.DataType.FLOAT),\n",
    "            ],\n",
    "        )\n",
    "    },\n",
    ")"
   ]
  },
  {
   "cell_type": "markdown",
   "id": "72fcde38-5b9d-4b96-8833-f699611c643b",
   "metadata": {
    "collapsed": false,
    "name": "run_model_md"
   },
   "source": [
    "## Run Partitioned Model\n",
    "Finally, we will run the model from our model registry. We can use the `run` method for inference, specifying the partition column."
   ]
  },
  {
   "cell_type": "code",
   "execution_count": 10,
   "id": "53dda197-3afd-47a3-9fd6-d1237af6804f",
   "metadata": {
    "codeCollapsed": false,
    "collapsed": false,
    "language": "python",
    "name": "run_model"
   },
   "outputs": [
    {
     "data": {
      "text/html": [
       "<div>\n",
       "<style scoped>\n",
       "    .dataframe tbody tr th:only-of-type {\n",
       "        vertical-align: middle;\n",
       "    }\n",
       "\n",
       "    .dataframe tbody tr th {\n",
       "        vertical-align: top;\n",
       "    }\n",
       "\n",
       "    .dataframe thead th {\n",
       "        text-align: right;\n",
       "    }\n",
       "</style>\n",
       "<table border=\"1\" class=\"dataframe\">\n",
       "  <thead>\n",
       "    <tr style=\"text-align: right;\">\n",
       "      <th></th>\n",
       "      <th>EPOCH_OUT</th>\n",
       "      <th>PREDICTION</th>\n",
       "      <th>STORE_ID</th>\n",
       "    </tr>\n",
       "  </thead>\n",
       "  <tbody>\n",
       "    <tr>\n",
       "      <th>0</th>\n",
       "      <td>1.664694e+09</td>\n",
       "      <td>77.972305</td>\n",
       "      <td>40.0</td>\n",
       "    </tr>\n",
       "    <tr>\n",
       "      <th>1</th>\n",
       "      <td>1.664698e+09</td>\n",
       "      <td>77.546402</td>\n",
       "      <td>40.0</td>\n",
       "    </tr>\n",
       "    <tr>\n",
       "      <th>2</th>\n",
       "      <td>1.664701e+09</td>\n",
       "      <td>76.611122</td>\n",
       "      <td>40.0</td>\n",
       "    </tr>\n",
       "    <tr>\n",
       "      <th>3</th>\n",
       "      <td>1.664705e+09</td>\n",
       "      <td>76.296654</td>\n",
       "      <td>40.0</td>\n",
       "    </tr>\n",
       "    <tr>\n",
       "      <th>4</th>\n",
       "      <td>1.664708e+09</td>\n",
       "      <td>98.838348</td>\n",
       "      <td>40.0</td>\n",
       "    </tr>\n",
       "    <tr>\n",
       "      <th>...</th>\n",
       "      <td>...</td>\n",
       "      <td>...</td>\n",
       "      <td>...</td>\n",
       "    </tr>\n",
       "    <tr>\n",
       "      <th>86395</th>\n",
       "      <td>1.666980e+09</td>\n",
       "      <td>31.088211</td>\n",
       "      <td>78.0</td>\n",
       "    </tr>\n",
       "    <tr>\n",
       "      <th>86396</th>\n",
       "      <td>1.666984e+09</td>\n",
       "      <td>30.569330</td>\n",
       "      <td>78.0</td>\n",
       "    </tr>\n",
       "    <tr>\n",
       "      <th>86397</th>\n",
       "      <td>1.666987e+09</td>\n",
       "      <td>32.221611</td>\n",
       "      <td>78.0</td>\n",
       "    </tr>\n",
       "    <tr>\n",
       "      <th>86398</th>\n",
       "      <td>1.666991e+09</td>\n",
       "      <td>6.004010</td>\n",
       "      <td>78.0</td>\n",
       "    </tr>\n",
       "    <tr>\n",
       "      <th>86399</th>\n",
       "      <td>1.666994e+09</td>\n",
       "      <td>5.023667</td>\n",
       "      <td>78.0</td>\n",
       "    </tr>\n",
       "  </tbody>\n",
       "</table>\n",
       "<p>86400 rows × 3 columns</p>\n",
       "</div>"
      ],
      "text/plain": [
       "          EPOCH_OUT  PREDICTION  STORE_ID\n",
       "0      1.664694e+09   77.972305      40.0\n",
       "1      1.664698e+09   77.546402      40.0\n",
       "2      1.664701e+09   76.611122      40.0\n",
       "3      1.664705e+09   76.296654      40.0\n",
       "4      1.664708e+09   98.838348      40.0\n",
       "...             ...         ...       ...\n",
       "86395  1.666980e+09   31.088211      78.0\n",
       "86396  1.666984e+09   30.569330      78.0\n",
       "86397  1.666987e+09   32.221611      78.0\n",
       "86398  1.666991e+09    6.004010      78.0\n",
       "86399  1.666994e+09    5.023667      78.0\n",
       "\n",
       "[86400 rows x 3 columns]"
      ]
     },
     "execution_count": 10,
     "metadata": {},
     "output_type": "execute_result"
    }
   ],
   "source": [
    "result = mv.run(test_df, partition_column=\"STORE_ID\")\n",
    "result.select(\"EPOCH_OUT\", \"PREDICTION\", \"STORE_ID\").to_pandas()"
   ]
  }
 ],
 "metadata": {
  "kernelspec": {
   "display_name": "Python 3 (ipykernel)",
   "language": "python",
   "name": "python3"
  },
  "language_info": {
   "codemirror_mode": {
    "name": "ipython",
    "version": 3
   },
   "file_extension": ".py",
   "mimetype": "text/x-python",
   "name": "python",
   "nbconvert_exporter": "python",
   "pygments_lexer": "ipython3",
   "version": "3.11.8"
  }
 },
 "nbformat": 4,
 "nbformat_minor": 5
}
